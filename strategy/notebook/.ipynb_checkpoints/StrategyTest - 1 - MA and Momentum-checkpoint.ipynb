{
 "cells": [
  {
   "cell_type": "code",
   "execution_count": 1,
   "id": "f0b70f44",
   "metadata": {},
   "outputs": [
    {
     "name": "stdout",
     "output_type": "stream",
     "text": [
      "/Users/rachata/Desktop/SummerExtraProject/TradingBot\n"
     ]
    }
   ],
   "source": [
    "import os\n",
    "import json\n",
    "\n",
    "import alpaca_trade_api as tradeapi\n",
    "from alpaca_trade_api.rest import TimeFrame\n",
    "import requests\n",
    "import time\n",
    "\n",
    "os.chdir(\"..\")\n",
    "print(os.getcwd())"
   ]
  },
  {
   "cell_type": "code",
   "execution_count": 2,
   "id": "ba8eaab2",
   "metadata": {},
   "outputs": [
    {
     "data": {
      "text/plain": [
       "{'api_key': 'PK42O6ZKJXD0E21ND9F9',\n",
       " 'api_secret': 'Uxo3MG5E1cRovH2MMNXj0kKJSDFq9gszSk8c4hfV',\n",
       " 'base_url_paper': 'https://paper-api.alpaca.markets'}"
      ]
     },
     "execution_count": 2,
     "metadata": {},
     "output_type": "execute_result"
    }
   ],
   "source": [
    "with open('CONFIG.json') as f:\n",
    "    CONFIG = json.load(f)\n",
    "    \n",
    "CONFIG['KEYS']"
   ]
  },
  {
   "cell_type": "markdown",
   "id": "913cf5cf",
   "metadata": {},
   "source": [
    "# 1 - Setup "
   ]
  },
  {
   "cell_type": "code",
   "execution_count": 3,
   "id": "9e743cbc",
   "metadata": {},
   "outputs": [],
   "source": [
    "api = tradeapi.REST(\n",
    "    base_url = CONFIG['KEYS']['base_url_paper'],\n",
    "    key_id = CONFIG['KEYS']['api_key'],\n",
    "    secret_key = CONFIG['KEYS']['api_secret']\n",
    ")"
   ]
  },
  {
   "cell_type": "code",
   "execution_count": 20,
   "id": "72d46b28",
   "metadata": {},
   "outputs": [],
   "source": [
    "Bar = api.get_crypto_bars('BTCUSD',TimeFrame.Minute,\"2022-06-01\",\"2022-06-01\").df\n",
    "df = Bar[Bar.exchange == 'CBSE']"
   ]
  },
  {
   "cell_type": "code",
   "execution_count": 21,
   "id": "cb96130f",
   "metadata": {},
   "outputs": [
    {
     "data": {
      "text/plain": [
       "<AxesSubplot:xlabel='timestamp'>"
      ]
     },
     "execution_count": 21,
     "metadata": {},
     "output_type": "execute_result"
    },
    {
     "data": {
      "image/png": "[encoded data removed]",
      "text/plain": [
       "<Figure size 432x288 with 1 Axes>"
      ]
     },
     "metadata": {
      "needs_background": "light"
     },
     "output_type": "display_data"
    }
   ],
   "source": [
    "df.close.plot()"
   ]
  },
  {
   "cell_type": "markdown",
   "id": "dc38d571",
   "metadata": {},
   "source": [
    "# 2 - Strategy"
   ]
  },
  {
   "cell_type": "code",
   "execution_count": 74,
   "id": "3830159a",
   "metadata": {},
   "outputs": [],
   "source": [
    "import pandas as pd\n",
    "import numpy as np\n",
    "import matplotlib.pyplot as plt\n",
    "def cal_dualMA(df,short_window,long_window):\n",
    "    signals = pd.DataFrame(index = df.index)\n",
    "    signals['dualMA_signal'] = 0.0\n",
    "    # df['dualMA_signal'] = 0.0\n",
    "    signals['short_mavg'] = df['close'].rolling(window=short_window,min_periods=1,center=False).mean()\n",
    "    signals['long_mavg'] = df['close'].rolling(window=long_window,min_periods=1,center=False).mean()\n",
    "    signals['dualMA_signal'][short_window:] = \\\n",
    "    np.where(signals['short_mavg'][short_window:]>signals['long_mavg'][short_window:],1.0,0.0)\n",
    "    df['dualMA_signal'] = signals['dualMA_signal'].diff().fillna(0)\n",
    "    df['dualMA_short_mavg'] = signals['short_mavg']\n",
    "    df['dualMA_long_mavg'] = signals['long_mavg']\n",
    "    return df\n",
    "\n",
    "# plt.plot(MA_df.close)\n",
    "# plt.plot(MA_df.loc[MA_df['dualMA_signal']==1.0].index,MA_df.close.loc[MA_df['dualMA_signal']==1.0],\\\n",
    "#          '^',markersize=7,color='g')\n",
    "# plt.plot(MA_df.loc[MA_df['dualMA_signal']==-1.0].index,MA_df.close.loc[MA_df['dualMA_signal']==-1.0],\\\n",
    "#          'v',markersize=7,color='r')\n",
    "\n",
    "def plot_signal(df,method):\n",
    "    plt.plot(df['close'],color='b',lw=.5)\n",
    "    plt.plot(df.loc[df[f'{method}_signal']==1.0].index\\\n",
    "           ,df.close.loc[df[f'{method}_signal']==1.0]\\\n",
    "           ,'^',markersize=7,color='g')\n",
    "    plt.plot(df.loc[df[f'{method}_signal']==-1.0].index\\\n",
    "           ,df.close.loc[df[f'{method}_signal']==-1.0]\\\n",
    "           ,'v',markersize=7,color='r')\n",
    "    plt.legend(['Price','Buy','Sell'])\n",
    "    \n",
    "def signal_test(df,ind='MACD'):\n",
    "    init_amount = 10000\n",
    "\n",
    "    signal = pd.DataFrame(index = df.index)\n",
    "    positions = pd.DataFrame(index = df.index)\n",
    "    portfolio = pd.DataFrame(index = df.index)\n",
    "\n",
    "    holding_stock = False\n",
    "    cost = 0.0\n",
    "    revenue = 0.0\n",
    "    n = len(df)\n",
    "    for i in range(n):\n",
    "        if df[f'{ind}_signal'][i]==1.0:\n",
    "            if holding_stock == True:\n",
    "                continue\n",
    "            cost += df['close'][i]\n",
    "            holding_stock = True\n",
    "\n",
    "        if df[f'{ind}_signal'][i]==-1.0:\n",
    "            if holding_stock == False:\n",
    "                continue\n",
    "            revenue += df['close'][i]\n",
    "            holding_stock = False\n",
    "\n",
    "    positions['stock'] = df[f'{ind}_signal'] * 10\n",
    "    portfolio['holdings'] = df[f'{ind}_signal'] * df['close'] * 10 \n",
    "\n",
    "    pos_diff = positions['stock'].diff().fillna(0)\n",
    "    cash_change = - pos_diff * df['close']\n",
    "    portfolio['cash'] = init_amount + cash_change.cumsum()\n",
    "    portfolio['total'] = portfolio['cash'] + portfolio['holdings']\n",
    "    portfolio['returns'] = portfolio['total'].pct_change()\n",
    "\n",
    "    return portfolio"
   ]
  },
  {
   "cell_type": "code",
   "execution_count": 234,
   "id": "80e2b514",
   "metadata": {},
   "outputs": [],
   "source": [
    "\n",
    "\n",
    "data_df = {}\n",
    "for date in dl:\n",
    "    Bar = api.get_crypto_bars('BTCUSD',TimeFrame.Minute,date,date).df\n",
    "    df = Bar[Bar.exchange == 'CBSE']\n",
    "    data_df[date] = df"
   ]
  },
  {
   "cell_type": "code",
   "execution_count": 237,
   "id": "04a2edbf",
   "metadata": {},
   "outputs": [],
   "source": [
    "def test_strat(date,short_ma=15,long_ma=60):\n",
    "    df = data_df[date]\n",
    "    MA_df = cal_dualMA(df,short_ma,long_ma)\n",
    "    num_trade = len(MA_df[MA_df['dualMA_signal']!=0.0])\n",
    "    MA_port = signal_test(MA_df,ind='dualMA')\n",
    "    return MA_port,num_trade"
   ]
  },
  {
   "cell_type": "code",
   "execution_count": 238,
   "id": "dbf07011",
   "metadata": {},
   "outputs": [],
   "source": [
    "date1 = '2022-05-03'\n",
    "date2 = '2022-06-02'\n",
    "datelist = pd.date_range(date1, date2).tolist()\n",
    "dl = [str(i.date()) for i in datelist]\n",
    "\n",
    "def month_trade(sa=5,la=30):\n",
    "    pnl = []\n",
    "    n_trade = []\n",
    "    for idx,i in enumerate(dl):\n",
    "        temp,num_t = test_strat(i,sa,la)\n",
    "        total = temp.total\n",
    "        pnl.append(total[-1]-total[0])\n",
    "        n_trade.append(num_t)\n",
    "    return (sa,la,np.mean(pnl),np.mean(n_trade))\n",
    "    \n",
    "\n",
    "    "
   ]
  },
  {
   "cell_type": "code",
   "execution_count": 239,
   "id": "58a3c027",
   "metadata": {},
   "outputs": [
    {
     "name": "stderr",
     "output_type": "stream",
     "text": [
      "  0%|                                                    | 0/12 [00:00<?, ?it/s]\n",
      "  0%|                                                     | 0/8 [00:00<?, ?it/s]\u001b[A\n",
      " 12%|█████▋                                       | 1/8 [00:00<00:01,  3.83it/s]\u001b[A\n",
      " 25%|███████████▎                                 | 2/8 [00:00<00:01,  4.23it/s]\u001b[A\n",
      " 38%|████████████████▉                            | 3/8 [00:00<00:01,  4.39it/s]\u001b[A\n",
      " 50%|██████████████████████▌                      | 4/8 [00:00<00:00,  4.47it/s]\u001b[A\n",
      " 62%|████████████████████████████▏                | 5/8 [00:01<00:00,  4.46it/s]\u001b[A\n",
      " 75%|█████████████████████████████████▊           | 6/8 [00:01<00:00,  4.47it/s]\u001b[A\n",
      " 88%|███████████████████████████████████████▍     | 7/8 [00:01<00:00,  4.50it/s]\u001b[A\n",
      "100%|█████████████████████████████████████████████| 8/8 [00:01<00:00,  4.44it/s]\u001b[A\n",
      "  8%|███▋                                        | 1/12 [00:01<00:19,  1.81s/it]\n",
      "  0%|                                                     | 0/8 [00:00<?, ?it/s]\u001b[A\n",
      " 12%|█████▋                                       | 1/8 [00:00<00:01,  4.54it/s]\u001b[A\n",
      " 25%|███████████▎                                 | 2/8 [00:00<00:01,  4.59it/s]\u001b[A\n",
      " 38%|████████████████▉                            | 3/8 [00:00<00:01,  4.61it/s]\u001b[A\n",
      " 50%|██████████████████████▌                      | 4/8 [00:00<00:00,  4.63it/s]\u001b[A\n",
      " 62%|████████████████████████████▏                | 5/8 [00:01<00:00,  4.64it/s]\u001b[A\n",
      " 75%|█████████████████████████████████▊           | 6/8 [00:01<00:00,  4.65it/s]\u001b[A\n",
      " 88%|███████████████████████████████████████▍     | 7/8 [00:01<00:00,  4.65it/s]\u001b[A\n",
      "100%|█████████████████████████████████████████████| 8/8 [00:01<00:00,  4.62it/s]\u001b[A\n",
      " 17%|███████▎                                    | 2/12 [00:03<00:17,  1.76s/it]\n",
      "  0%|                                                     | 0/8 [00:00<?, ?it/s]\u001b[A\n",
      " 12%|█████▋                                       | 1/8 [00:00<00:01,  4.48it/s]\u001b[A\n",
      " 25%|███████████▎                                 | 2/8 [00:00<00:01,  4.58it/s]\u001b[A\n",
      " 38%|████████████████▉                            | 3/8 [00:00<00:01,  4.58it/s]\u001b[A\n",
      " 50%|██████████████████████▌                      | 4/8 [00:00<00:00,  4.58it/s]\u001b[A\n",
      " 62%|████████████████████████████▏                | 5/8 [00:01<00:00,  4.60it/s]\u001b[A\n",
      " 75%|█████████████████████████████████▊           | 6/8 [00:01<00:00,  4.51it/s]\u001b[A\n",
      " 88%|███████████████████████████████████████▍     | 7/8 [00:01<00:00,  4.52it/s]\u001b[A\n",
      "100%|█████████████████████████████████████████████| 8/8 [00:01<00:00,  4.55it/s]\u001b[A\n",
      " 25%|███████████                                 | 3/12 [00:05<00:15,  1.76s/it]\n",
      "  0%|                                                     | 0/8 [00:00<?, ?it/s]\u001b[A\n",
      " 12%|█████▋                                       | 1/8 [00:00<00:01,  4.46it/s]\u001b[A\n",
      " 25%|███████████▎                                 | 2/8 [00:00<00:01,  4.57it/s]\u001b[A\n",
      " 38%|████████████████▉                            | 3/8 [00:00<00:01,  4.53it/s]\u001b[A\n",
      " 50%|██████████████████████▌                      | 4/8 [00:00<00:00,  4.57it/s]\u001b[A\n",
      " 62%|████████████████████████████▏                | 5/8 [00:01<00:00,  4.59it/s]\u001b[A\n",
      " 75%|█████████████████████████████████▊           | 6/8 [00:01<00:00,  4.62it/s]\u001b[A\n",
      " 88%|███████████████████████████████████████▍     | 7/8 [00:01<00:00,  4.62it/s]\u001b[A\n",
      "100%|█████████████████████████████████████████████| 8/8 [00:01<00:00,  4.60it/s]\u001b[A\n",
      " 33%|██████████████▋                             | 4/12 [00:07<00:14,  1.75s/it]\n",
      "  0%|                                                     | 0/8 [00:00<?, ?it/s]\u001b[A\n",
      " 12%|█████▋                                       | 1/8 [00:00<00:01,  4.52it/s]\u001b[A\n",
      " 25%|███████████▎                                 | 2/8 [00:00<00:01,  4.58it/s]\u001b[A\n",
      " 38%|████████████████▉                            | 3/8 [00:00<00:01,  4.62it/s]\u001b[A\n",
      " 50%|██████████████████████▌                      | 4/8 [00:00<00:00,  4.63it/s]\u001b[A\n",
      " 62%|████████████████████████████▏                | 5/8 [00:01<00:00,  4.63it/s]\u001b[A\n",
      " 75%|█████████████████████████████████▊           | 6/8 [00:01<00:00,  4.64it/s]\u001b[A\n",
      " 88%|███████████████████████████████████████▍     | 7/8 [00:01<00:00,  4.63it/s]\u001b[A\n",
      "100%|█████████████████████████████████████████████| 8/8 [00:01<00:00,  4.62it/s]\u001b[A\n",
      " 42%|██████████████████▎                         | 5/12 [00:08<00:12,  1.74s/it]\n",
      "  0%|                                                     | 0/8 [00:00<?, ?it/s]\u001b[A\n",
      " 12%|█████▋                                       | 1/8 [00:00<00:01,  4.61it/s]\u001b[A\n",
      " 25%|███████████▎                                 | 2/8 [00:00<00:01,  4.62it/s]\u001b[A\n",
      " 38%|████████████████▉                            | 3/8 [00:00<00:01,  4.63it/s]\u001b[A\n",
      " 50%|██████████████████████▌                      | 4/8 [00:00<00:00,  4.64it/s]\u001b[A\n",
      " 62%|████████████████████████████▏                | 5/8 [00:01<00:00,  4.63it/s]\u001b[A\n",
      " 75%|█████████████████████████████████▊           | 6/8 [00:01<00:00,  4.64it/s]\u001b[A\n",
      " 88%|███████████████████████████████████████▍     | 7/8 [00:01<00:00,  4.64it/s]\u001b[A\n",
      "100%|█████████████████████████████████████████████| 8/8 [00:01<00:00,  4.64it/s]\u001b[A\n",
      " 50%|██████████████████████                      | 6/12 [00:10<00:10,  1.74s/it]\n",
      "  0%|                                                     | 0/8 [00:00<?, ?it/s]\u001b[A\n",
      " 25%|███████████▎                                 | 2/8 [00:00<00:00,  9.09it/s]\u001b[A\n",
      " 38%|████████████████▉                            | 3/8 [00:00<00:00,  6.50it/s]\u001b[A\n",
      " 50%|██████████████████████▌                      | 4/8 [00:00<00:00,  5.61it/s]\u001b[A\n",
      " 62%|████████████████████████████▏                | 5/8 [00:00<00:00,  5.23it/s]\u001b[A\n",
      " 75%|█████████████████████████████████▊           | 6/8 [00:01<00:00,  5.00it/s]\u001b[A\n",
      " 88%|███████████████████████████████████████▍     | 7/8 [00:01<00:00,  4.88it/s]\u001b[A\n",
      "100%|█████████████████████████████████████████████| 8/8 [00:01<00:00,  5.26it/s]\u001b[A\n",
      " 58%|█████████████████████████▋                  | 7/12 [00:12<00:08,  1.67s/it]\n",
      "  0%|                                                     | 0/8 [00:00<?, ?it/s]\u001b[A\n",
      " 25%|███████████▎                                 | 2/8 [00:00<00:00,  9.17it/s]\u001b[A\n",
      " 38%|████████████████▉                            | 3/8 [00:00<00:00,  6.44it/s]\u001b[A\n",
      " 50%|██████████████████████▌                      | 4/8 [00:00<00:00,  5.63it/s]\u001b[A\n",
      " 62%|████████████████████████████▏                | 5/8 [00:00<00:00,  5.25it/s]\u001b[A\n",
      " 75%|█████████████████████████████████▊           | 6/8 [00:01<00:00,  5.00it/s]\u001b[A\n",
      " 88%|███████████████████████████████████████▍     | 7/8 [00:01<00:00,  4.88it/s]\u001b[A\n",
      "100%|█████████████████████████████████████████████| 8/8 [00:01<00:00,  5.26it/s]\u001b[A\n",
      " 67%|█████████████████████████████▎              | 8/12 [00:13<00:06,  1.62s/it]\n",
      "  0%|                                                     | 0/8 [00:00<?, ?it/s]\u001b[A\n",
      " 25%|███████████▎                                 | 2/8 [00:00<00:00,  9.06it/s]\u001b[A\n",
      " 38%|████████████████▉                            | 3/8 [00:00<00:00,  6.43it/s]\u001b[A\n",
      " 50%|██████████████████████▌                      | 4/8 [00:00<00:00,  5.64it/s]\u001b[A\n",
      " 62%|████████████████████████████▏                | 5/8 [00:00<00:00,  5.24it/s]\u001b[A\n",
      " 75%|█████████████████████████████████▊           | 6/8 [00:01<00:00,  5.03it/s]\u001b[A\n",
      " 88%|███████████████████████████████████████▍     | 7/8 [00:01<00:00,  4.88it/s]\u001b[A\n",
      "100%|█████████████████████████████████████████████| 8/8 [00:01<00:00,  5.27it/s]\u001b[A\n",
      " 75%|█████████████████████████████████           | 9/12 [00:15<00:04,  1.59s/it]\n",
      "  0%|                                                     | 0/8 [00:00<?, ?it/s]\u001b[A\n",
      " 25%|███████████▎                                 | 2/8 [00:00<00:00,  9.10it/s]\u001b[A\n",
      " 38%|████████████████▉                            | 3/8 [00:00<00:00,  6.49it/s]\u001b[A\n",
      " 50%|██████████████████████▌                      | 4/8 [00:00<00:00,  5.64it/s]\u001b[A\n",
      " 62%|████████████████████████████▏                | 5/8 [00:00<00:00,  5.25it/s]\u001b[A\n",
      " 75%|█████████████████████████████████▊           | 6/8 [00:01<00:00,  5.03it/s]\u001b[A\n",
      " 88%|███████████████████████████████████████▍     | 7/8 [00:01<00:00,  4.91it/s]\u001b[A\n",
      "100%|█████████████████████████████████████████████| 8/8 [00:01<00:00,  5.29it/s]\u001b[A\n",
      " 83%|███████████████████████████████████▊       | 10/12 [00:16<00:03,  1.57s/it]\n"
     ]
    },
    {
     "name": "stderr",
     "output_type": "stream",
     "text": [
      "  0%|                                                     | 0/8 [00:00<?, ?it/s]\u001b[A\n",
      " 25%|███████████▎                                 | 2/8 [00:00<00:00,  9.11it/s]\u001b[A\n",
      " 38%|████████████████▉                            | 3/8 [00:00<00:00,  6.50it/s]\u001b[A\n",
      " 50%|██████████████████████▌                      | 4/8 [00:00<00:00,  5.68it/s]\u001b[A\n",
      " 62%|████████████████████████████▏                | 5/8 [00:00<00:00,  5.28it/s]\u001b[A\n",
      " 75%|█████████████████████████████████▊           | 6/8 [00:01<00:00,  5.07it/s]\u001b[A\n",
      " 88%|███████████████████████████████████████▍     | 7/8 [00:01<00:00,  4.94it/s]\u001b[A\n",
      "100%|█████████████████████████████████████████████| 8/8 [00:01<00:00,  5.28it/s]\u001b[A\n",
      " 92%|███████████████████████████████████████▍   | 11/12 [00:18<00:01,  1.55s/it]\n",
      "  0%|                                                     | 0/8 [00:00<?, ?it/s]\u001b[A\n",
      " 25%|███████████▎                                 | 2/8 [00:00<00:00,  9.20it/s]\u001b[A\n",
      " 38%|████████████████▉                            | 3/8 [00:00<00:00,  6.56it/s]\u001b[A\n",
      " 50%|██████████████████████▌                      | 4/8 [00:00<00:00,  5.72it/s]\u001b[A\n",
      " 62%|████████████████████████████▏                | 5/8 [00:00<00:00,  5.31it/s]\u001b[A\n",
      " 75%|█████████████████████████████████▊           | 6/8 [00:01<00:00,  5.09it/s]\u001b[A\n",
      " 88%|███████████████████████████████████████▍     | 7/8 [00:01<00:00,  4.96it/s]\u001b[A\n",
      "100%|█████████████████████████████████████████████| 8/8 [00:01<00:00,  5.32it/s]\u001b[A\n",
      "100%|███████████████████████████████████████████| 12/12 [00:19<00:00,  1.63s/it]\n"
     ]
    }
   ],
   "source": [
    "sa_l = np.arange(5,65,5)\n",
    "la_l = np.arange(30,270,30)\n",
    "zs = []\n",
    "for sa_i in tqdm(sa_l):\n",
    "    for la_i in (la_l):\n",
    "        if sa_i>=la_i:\n",
    "            continue\n",
    "        zs.append(month_trade(sa_i,la_i))\n"
   ]
  },
  {
   "cell_type": "code",
   "execution_count": 253,
   "id": "454a917a",
   "metadata": {},
   "outputs": [],
   "source": [
    "saa = [zs_i[0] for zs_i in zs]\n",
    "laa = [zs_i[1] for zs_i in zs]\n",
    "pla = [zs_i[2] for zs_i in zs]\n",
    "nta = [zs_i[3] for zs_i in zs]"
   ]
  },
  {
   "cell_type": "code",
   "execution_count": 259,
   "id": "764b87c0",
   "metadata": {},
   "outputs": [
    {
     "data": {
      "text/plain": [
       "<matplotlib.collections.PathCollection at 0x13fda6a10>"
      ]
     },
     "execution_count": 259,
     "metadata": {},
     "output_type": "execute_result"
    },
    {
     "data": {
      "image/png": "[encoded data removed]",
      "text/plain": [
       "<Figure size 432x288 with 1 Axes>"
      ]
     },
     "metadata": {
      "needs_background": "light"
     },
     "output_type": "display_data"
    }
   ],
   "source": [
    "plt.scatter(saa,laa,pla)"
   ]
  },
  {
   "cell_type": "code",
   "execution_count": 260,
   "id": "c106b59d",
   "metadata": {},
   "outputs": [
    {
     "data": {
      "text/plain": [
       "<matplotlib.collections.PathCollection at 0x13d462d10>"
      ]
     },
     "execution_count": 260,
     "metadata": {},
     "output_type": "execute_result"
    },
    {
     "data": {
      "image/png": "[encoded data removed]",
      "text/plain": [
       "<Figure size 432x288 with 1 Axes>"
      ]
     },
     "metadata": {
      "needs_background": "light"
     },
     "output_type": "display_data"
    }
   ],
   "source": [
    "plt.scatter(saa,laa,nta)"
   ]
  },
  {
   "cell_type": "code",
   "execution_count": 265,
   "id": "712a48f0",
   "metadata": {},
   "outputs": [
    {
     "name": "stderr",
     "output_type": "stream",
     "text": [
      "100%|█████████████████████████████████████████████| 5/5 [00:06<00:00,  1.35s/it]\n"
     ]
    }
   ],
   "source": [
    "sa_l = np.arange(1,6,1)\n",
    "la_l = np.arange(5,35,5)\n",
    "zs2 = []\n",
    "for sa_i in tqdm(sa_l):\n",
    "    for la_i in (la_l):\n",
    "        if sa_i>la_i:\n",
    "            continue\n",
    "        zs2.append(month_trade(sa_i,la_i))"
   ]
  },
  {
   "cell_type": "code",
   "execution_count": 268,
   "id": "cc0786a2",
   "metadata": {},
   "outputs": [
    {
     "data": {
      "text/plain": [
       "<matplotlib.collections.PathCollection at 0x13d95cfd0>"
      ]
     },
     "execution_count": 268,
     "metadata": {},
     "output_type": "execute_result"
    },
    {
     "data": {
      "image/png": "[encoded data removed]",
      "text/plain": [
       "<Figure size 432x288 with 1 Axes>"
      ]
     },
     "metadata": {
      "needs_background": "light"
     },
     "output_type": "display_data"
    }
   ],
   "source": [
    "saa2 = [zs_i[0] for zs_i in zs2]\n",
    "laa2 = [zs_i[1] for zs_i in zs2]\n",
    "pla2 = [zs_i[2] for zs_i in zs2]\n",
    "nta2 = [zs_i[3] for zs_i in zs2]\n",
    "plt.scatter(saa2,laa2,c=pla2)"
   ]
  },
  {
   "cell_type": "code",
   "execution_count": 269,
   "id": "2534a54d",
   "metadata": {},
   "outputs": [
    {
     "data": {
      "text/plain": [
       "[(1, 5, 2090.387096774267, 380.741935483871),\n",
       " (1, 10, 2063.5709677420336, 255.09677419354838),\n",
       " (1, 15, 1351.0903225806935, 205.67741935483872),\n",
       " (1, 20, 1683.1935483872733, 169.74193548387098),\n",
       " (1, 25, 1470.783870967781, 150.29032258064515),\n",
       " (1, 30, 993.6161290322837, 135.5483870967742),\n",
       " (2, 5, 53.36451612896429, 316.61290322580646),\n",
       " (2, 10, 814.4516129032896, 194.2258064516129),\n",
       " (2, 15, 1257.0516129031837, 152.80645161290323),\n",
       " (2, 20, 1123.2677419355155, 126.03225806451613),\n",
       " (2, 25, 791.7903225807522, 110.93548387096774),\n",
       " (2, 30, 657.3129032257824, 100.7741935483871),\n",
       " (3, 5, 186.73225806454843, 319.19354838709677),\n",
       " (3, 10, 129.6741935482996, 170.67741935483872),\n",
       " (3, 15, 1511.7903225806433, 131.0),\n",
       " (3, 20, 110.50967741951219, 107.06451612903226),\n",
       " (3, 25, 700.6645161291048, 93.7741935483871),\n",
       " (3, 30, -155.72258064521273, 84.0),\n",
       " (4, 5, -437.00322580639266, 387.35483870967744),\n",
       " (4, 10, 1462.7354838709787, 161.7741935483871),\n",
       " (4, 15, 888.0322580644523, 119.03225806451613),\n",
       " (4, 20, -379.3451612903042, 96.74193548387096),\n",
       " (4, 25, 1127.0290322580145, 83.41935483870968),\n",
       " (4, 30, 370.48709677423034, 73.96774193548387),\n",
       " (5, 5, 0.0, 0.0),\n",
       " (5, 10, 2367.7483870968194, 158.09677419354838),\n",
       " (5, 15, 80.6387096774096, 112.29032258064517),\n",
       " (5, 20, 812.6419354838266, 88.38709677419355),\n",
       " (5, 25, 1458.8290322580742, 76.12903225806451),\n",
       " (5, 30, 1332.5548387096346, 67.2258064516129)]"
      ]
     },
     "execution_count": 269,
     "metadata": {},
     "output_type": "execute_result"
    }
   ],
   "source": [
    "zs2"
   ]
  },
  {
   "cell_type": "code",
   "execution_count": 193,
   "id": "36453409",
   "metadata": {},
   "outputs": [
    {
     "name": "stderr",
     "output_type": "stream",
     "text": [
      "31it [00:09,  3.38it/s]\n"
     ]
    }
   ],
   "source": [
    "from tqdm import tqdm\n",
    "all_days = {}\n",
    "\n",
    "pd.options.mode.chained_assignment = None\n",
    "\n",
    "for idx,date_i in tqdm(enumerate(dl)):\n",
    "    temp = test_strat(date_i)\n",
    "    all_days[idx] = temp.total\n",
    "    l = temp.total.index\n",
    "    ff = [str(i.time()) for i in l]\n",
    "    all_days[idx].index = ff\n",
    "    "
   ]
  },
  {
   "cell_type": "code",
   "execution_count": 179,
   "id": "06450f55",
   "metadata": {},
   "outputs": [
    {
     "data": {
      "text/html": [
       "<div>\n",
       "<style scoped>\n",
       "    .dataframe tbody tr th:only-of-type {\n",
       "        vertical-align: middle;\n",
       "    }\n",
       "\n",
       "    .dataframe tbody tr th {\n",
       "        vertical-align: top;\n",
       "    }\n",
       "\n",
       "    .dataframe thead th {\n",
       "        text-align: right;\n",
       "    }\n",
       "</style>\n",
       "<table border=\"1\" class=\"dataframe\">\n",
       "  <thead>\n",
       "    <tr style=\"text-align: right;\">\n",
       "      <th></th>\n",
       "      <th>0</th>\n",
       "      <th>1</th>\n",
       "      <th>2</th>\n",
       "      <th>3</th>\n",
       "      <th>4</th>\n",
       "      <th>5</th>\n",
       "      <th>6</th>\n",
       "      <th>7</th>\n",
       "      <th>8</th>\n",
       "      <th>9</th>\n",
       "      <th>...</th>\n",
       "      <th>21</th>\n",
       "      <th>22</th>\n",
       "      <th>23</th>\n",
       "      <th>24</th>\n",
       "      <th>25</th>\n",
       "      <th>26</th>\n",
       "      <th>27</th>\n",
       "      <th>28</th>\n",
       "      <th>29</th>\n",
       "      <th>30</th>\n",
       "    </tr>\n",
       "  </thead>\n",
       "  <tbody>\n",
       "    <tr>\n",
       "      <th>00:00:00</th>\n",
       "      <td>6701.8</td>\n",
       "      <td>8282.7</td>\n",
       "      <td>9343.6</td>\n",
       "      <td>NaN</td>\n",
       "      <td>9908.5</td>\n",
       "      <td>10606.1</td>\n",
       "      <td>11939.1</td>\n",
       "      <td>6894.2</td>\n",
       "      <td>17884.3</td>\n",
       "      <td>12584.7</td>\n",
       "      <td>...</td>\n",
       "      <td>10516.5</td>\n",
       "      <td>9881.9</td>\n",
       "      <td>9943.5</td>\n",
       "      <td>9430.5</td>\n",
       "      <td>10453.6</td>\n",
       "      <td>9469.3</td>\n",
       "      <td>10612.3</td>\n",
       "      <td>9017.6</td>\n",
       "      <td>9985.3</td>\n",
       "      <td>8577.6</td>\n",
       "    </tr>\n",
       "    <tr>\n",
       "      <th>00:01:00</th>\n",
       "      <td>6701.8</td>\n",
       "      <td>8282.7</td>\n",
       "      <td>9343.6</td>\n",
       "      <td>NaN</td>\n",
       "      <td>9908.5</td>\n",
       "      <td>10606.1</td>\n",
       "      <td>11939.1</td>\n",
       "      <td>6894.2</td>\n",
       "      <td>17884.3</td>\n",
       "      <td>12584.7</td>\n",
       "      <td>...</td>\n",
       "      <td>10516.5</td>\n",
       "      <td>9881.9</td>\n",
       "      <td>9943.5</td>\n",
       "      <td>9430.5</td>\n",
       "      <td>10453.6</td>\n",
       "      <td>9469.3</td>\n",
       "      <td>10612.3</td>\n",
       "      <td>9017.6</td>\n",
       "      <td>9985.3</td>\n",
       "      <td>8577.6</td>\n",
       "    </tr>\n",
       "    <tr>\n",
       "      <th>00:02:00</th>\n",
       "      <td>6701.8</td>\n",
       "      <td>8282.7</td>\n",
       "      <td>9343.6</td>\n",
       "      <td>NaN</td>\n",
       "      <td>9908.5</td>\n",
       "      <td>10606.1</td>\n",
       "      <td>11939.1</td>\n",
       "      <td>6894.2</td>\n",
       "      <td>17884.3</td>\n",
       "      <td>12584.7</td>\n",
       "      <td>...</td>\n",
       "      <td>10516.5</td>\n",
       "      <td>9881.9</td>\n",
       "      <td>9943.5</td>\n",
       "      <td>9430.5</td>\n",
       "      <td>10453.6</td>\n",
       "      <td>9469.3</td>\n",
       "      <td>10612.3</td>\n",
       "      <td>9017.6</td>\n",
       "      <td>9985.3</td>\n",
       "      <td>8577.6</td>\n",
       "    </tr>\n",
       "    <tr>\n",
       "      <th>00:03:00</th>\n",
       "      <td>6701.8</td>\n",
       "      <td>8282.7</td>\n",
       "      <td>9343.6</td>\n",
       "      <td>NaN</td>\n",
       "      <td>9908.5</td>\n",
       "      <td>10606.1</td>\n",
       "      <td>11939.1</td>\n",
       "      <td>6894.2</td>\n",
       "      <td>17884.3</td>\n",
       "      <td>12584.7</td>\n",
       "      <td>...</td>\n",
       "      <td>10516.5</td>\n",
       "      <td>9881.9</td>\n",
       "      <td>9943.5</td>\n",
       "      <td>9430.5</td>\n",
       "      <td>10453.6</td>\n",
       "      <td>9469.3</td>\n",
       "      <td>10612.3</td>\n",
       "      <td>9017.6</td>\n",
       "      <td>9985.3</td>\n",
       "      <td>8577.6</td>\n",
       "    </tr>\n",
       "    <tr>\n",
       "      <th>00:04:00</th>\n",
       "      <td>6701.8</td>\n",
       "      <td>8282.7</td>\n",
       "      <td>9343.6</td>\n",
       "      <td>NaN</td>\n",
       "      <td>9908.5</td>\n",
       "      <td>10606.1</td>\n",
       "      <td>11939.1</td>\n",
       "      <td>6894.2</td>\n",
       "      <td>17884.3</td>\n",
       "      <td>12584.7</td>\n",
       "      <td>...</td>\n",
       "      <td>10516.5</td>\n",
       "      <td>9881.9</td>\n",
       "      <td>9943.5</td>\n",
       "      <td>9430.5</td>\n",
       "      <td>10453.6</td>\n",
       "      <td>9469.3</td>\n",
       "      <td>10612.3</td>\n",
       "      <td>9017.6</td>\n",
       "      <td>9985.3</td>\n",
       "      <td>8577.6</td>\n",
       "    </tr>\n",
       "    <tr>\n",
       "      <th>...</th>\n",
       "      <td>...</td>\n",
       "      <td>...</td>\n",
       "      <td>...</td>\n",
       "      <td>...</td>\n",
       "      <td>...</td>\n",
       "      <td>...</td>\n",
       "      <td>...</td>\n",
       "      <td>...</td>\n",
       "      <td>...</td>\n",
       "      <td>...</td>\n",
       "      <td>...</td>\n",
       "      <td>...</td>\n",
       "      <td>...</td>\n",
       "      <td>...</td>\n",
       "      <td>...</td>\n",
       "      <td>...</td>\n",
       "      <td>...</td>\n",
       "      <td>...</td>\n",
       "      <td>...</td>\n",
       "      <td>...</td>\n",
       "      <td>...</td>\n",
       "    </tr>\n",
       "    <tr>\n",
       "      <th>23:55:00</th>\n",
       "      <td>6701.8</td>\n",
       "      <td>8282.7</td>\n",
       "      <td>9343.6</td>\n",
       "      <td>NaN</td>\n",
       "      <td>9908.5</td>\n",
       "      <td>10606.1</td>\n",
       "      <td>11939.1</td>\n",
       "      <td>6894.2</td>\n",
       "      <td>17884.3</td>\n",
       "      <td>12584.7</td>\n",
       "      <td>...</td>\n",
       "      <td>10516.5</td>\n",
       "      <td>9881.9</td>\n",
       "      <td>9943.5</td>\n",
       "      <td>9430.5</td>\n",
       "      <td>10428.2</td>\n",
       "      <td>9469.3</td>\n",
       "      <td>10612.3</td>\n",
       "      <td>9017.6</td>\n",
       "      <td>9985.3</td>\n",
       "      <td>8577.6</td>\n",
       "    </tr>\n",
       "    <tr>\n",
       "      <th>23:56:00</th>\n",
       "      <td>6701.8</td>\n",
       "      <td>8282.7</td>\n",
       "      <td>9343.6</td>\n",
       "      <td>NaN</td>\n",
       "      <td>9908.5</td>\n",
       "      <td>10606.1</td>\n",
       "      <td>11939.1</td>\n",
       "      <td>6894.2</td>\n",
       "      <td>17884.3</td>\n",
       "      <td>12584.7</td>\n",
       "      <td>...</td>\n",
       "      <td>10516.5</td>\n",
       "      <td>9881.9</td>\n",
       "      <td>9943.5</td>\n",
       "      <td>9430.5</td>\n",
       "      <td>10453.6</td>\n",
       "      <td>9469.3</td>\n",
       "      <td>10612.3</td>\n",
       "      <td>9017.6</td>\n",
       "      <td>9985.3</td>\n",
       "      <td>8577.6</td>\n",
       "    </tr>\n",
       "    <tr>\n",
       "      <th>23:57:00</th>\n",
       "      <td>6701.8</td>\n",
       "      <td>8282.7</td>\n",
       "      <td>9343.6</td>\n",
       "      <td>NaN</td>\n",
       "      <td>9908.5</td>\n",
       "      <td>10606.1</td>\n",
       "      <td>11939.1</td>\n",
       "      <td>6894.2</td>\n",
       "      <td>17884.3</td>\n",
       "      <td>12584.7</td>\n",
       "      <td>...</td>\n",
       "      <td>10516.5</td>\n",
       "      <td>9881.9</td>\n",
       "      <td>9943.5</td>\n",
       "      <td>9430.5</td>\n",
       "      <td>10453.6</td>\n",
       "      <td>9469.3</td>\n",
       "      <td>10612.3</td>\n",
       "      <td>9017.6</td>\n",
       "      <td>9985.3</td>\n",
       "      <td>8577.6</td>\n",
       "    </tr>\n",
       "    <tr>\n",
       "      <th>23:58:00</th>\n",
       "      <td>6701.8</td>\n",
       "      <td>8282.7</td>\n",
       "      <td>9343.6</td>\n",
       "      <td>NaN</td>\n",
       "      <td>9908.5</td>\n",
       "      <td>10606.1</td>\n",
       "      <td>11939.1</td>\n",
       "      <td>6894.2</td>\n",
       "      <td>17884.3</td>\n",
       "      <td>12584.7</td>\n",
       "      <td>...</td>\n",
       "      <td>10516.5</td>\n",
       "      <td>9881.9</td>\n",
       "      <td>9943.5</td>\n",
       "      <td>9430.5</td>\n",
       "      <td>10453.6</td>\n",
       "      <td>9469.3</td>\n",
       "      <td>10612.3</td>\n",
       "      <td>9017.6</td>\n",
       "      <td>9985.3</td>\n",
       "      <td>8577.6</td>\n",
       "    </tr>\n",
       "    <tr>\n",
       "      <th>23:59:00</th>\n",
       "      <td>6701.8</td>\n",
       "      <td>8282.7</td>\n",
       "      <td>9343.6</td>\n",
       "      <td>NaN</td>\n",
       "      <td>9908.5</td>\n",
       "      <td>10606.1</td>\n",
       "      <td>11939.1</td>\n",
       "      <td>6894.2</td>\n",
       "      <td>17884.3</td>\n",
       "      <td>12584.7</td>\n",
       "      <td>...</td>\n",
       "      <td>10516.5</td>\n",
       "      <td>9881.9</td>\n",
       "      <td>9943.5</td>\n",
       "      <td>9430.5</td>\n",
       "      <td>10453.6</td>\n",
       "      <td>9469.3</td>\n",
       "      <td>10612.3</td>\n",
       "      <td>9017.6</td>\n",
       "      <td>9985.3</td>\n",
       "      <td>8577.6</td>\n",
       "    </tr>\n",
       "  </tbody>\n",
       "</table>\n",
       "<p>1440 rows × 31 columns</p>\n",
       "</div>"
      ],
      "text/plain": [
       "              0       1       2   3       4        5        6       7   \\\n",
       "00:00:00  6701.8  8282.7  9343.6 NaN  9908.5  10606.1  11939.1  6894.2   \n",
       "00:01:00  6701.8  8282.7  9343.6 NaN  9908.5  10606.1  11939.1  6894.2   \n",
       "00:02:00  6701.8  8282.7  9343.6 NaN  9908.5  10606.1  11939.1  6894.2   \n",
       "00:03:00  6701.8  8282.7  9343.6 NaN  9908.5  10606.1  11939.1  6894.2   \n",
       "00:04:00  6701.8  8282.7  9343.6 NaN  9908.5  10606.1  11939.1  6894.2   \n",
       "...          ...     ...     ...  ..     ...      ...      ...     ...   \n",
       "23:55:00  6701.8  8282.7  9343.6 NaN  9908.5  10606.1  11939.1  6894.2   \n",
       "23:56:00  6701.8  8282.7  9343.6 NaN  9908.5  10606.1  11939.1  6894.2   \n",
       "23:57:00  6701.8  8282.7  9343.6 NaN  9908.5  10606.1  11939.1  6894.2   \n",
       "23:58:00  6701.8  8282.7  9343.6 NaN  9908.5  10606.1  11939.1  6894.2   \n",
       "23:59:00  6701.8  8282.7  9343.6 NaN  9908.5  10606.1  11939.1  6894.2   \n",
       "\n",
       "               8        9   ...       21      22      23      24       25  \\\n",
       "00:00:00  17884.3  12584.7  ...  10516.5  9881.9  9943.5  9430.5  10453.6   \n",
       "00:01:00  17884.3  12584.7  ...  10516.5  9881.9  9943.5  9430.5  10453.6   \n",
       "00:02:00  17884.3  12584.7  ...  10516.5  9881.9  9943.5  9430.5  10453.6   \n",
       "00:03:00  17884.3  12584.7  ...  10516.5  9881.9  9943.5  9430.5  10453.6   \n",
       "00:04:00  17884.3  12584.7  ...  10516.5  9881.9  9943.5  9430.5  10453.6   \n",
       "...           ...      ...  ...      ...     ...     ...     ...      ...   \n",
       "23:55:00  17884.3  12584.7  ...  10516.5  9881.9  9943.5  9430.5  10428.2   \n",
       "23:56:00  17884.3  12584.7  ...  10516.5  9881.9  9943.5  9430.5  10453.6   \n",
       "23:57:00  17884.3  12584.7  ...  10516.5  9881.9  9943.5  9430.5  10453.6   \n",
       "23:58:00  17884.3  12584.7  ...  10516.5  9881.9  9943.5  9430.5  10453.6   \n",
       "23:59:00  17884.3  12584.7  ...  10516.5  9881.9  9943.5  9430.5  10453.6   \n",
       "\n",
       "              26       27      28      29      30  \n",
       "00:00:00  9469.3  10612.3  9017.6  9985.3  8577.6  \n",
       "00:01:00  9469.3  10612.3  9017.6  9985.3  8577.6  \n",
       "00:02:00  9469.3  10612.3  9017.6  9985.3  8577.6  \n",
       "00:03:00  9469.3  10612.3  9017.6  9985.3  8577.6  \n",
       "00:04:00  9469.3  10612.3  9017.6  9985.3  8577.6  \n",
       "...          ...      ...     ...     ...     ...  \n",
       "23:55:00  9469.3  10612.3  9017.6  9985.3  8577.6  \n",
       "23:56:00  9469.3  10612.3  9017.6  9985.3  8577.6  \n",
       "23:57:00  9469.3  10612.3  9017.6  9985.3  8577.6  \n",
       "23:58:00  9469.3  10612.3  9017.6  9985.3  8577.6  \n",
       "23:59:00  9469.3  10612.3  9017.6  9985.3  8577.6  \n",
       "\n",
       "[1440 rows x 31 columns]"
      ]
     },
     "execution_count": 179,
     "metadata": {},
     "output_type": "execute_result"
    }
   ],
   "source": [
    "results = pd.DataFrame(all_days)\n",
    "results"
   ]
  },
  {
   "cell_type": "code",
   "execution_count": 190,
   "id": "99732773",
   "metadata": {},
   "outputs": [],
   "source": [
    "pnl = []\n",
    "for i in range(31):\n",
    "    pnl.append(all_days[i][-1]-all_days[i][0])\n",
    "    np.mean(pnl)"
   ]
  }
 ],
 "metadata": {
  "kernelspec": {
   "display_name": "AlpacaTestEnv",
   "language": "python",
   "name": "alpacatestenv"
  },
  "language_info": {
   "codemirror_mode": {
    "name": "ipython",
    "version": 3
   },
   "file_extension": ".py",
   "mimetype": "text/x-python",
   "name": "python",
   "nbconvert_exporter": "python",
   "pygments_lexer": "ipython3",
   "version": "3.10.4"
  }
 },
 "nbformat": 4,
 "nbformat_minor": 5
}
